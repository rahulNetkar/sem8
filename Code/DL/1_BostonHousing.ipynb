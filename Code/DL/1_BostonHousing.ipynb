{
 "cells": [
  {
   "cell_type": "code",
   "execution_count": null,
   "metadata": {
    "colab": {
     "base_uri": "https://localhost:8080/",
     "height": 363
    },
    "executionInfo": {
     "elapsed": 2600,
     "status": "ok",
     "timestamp": 1684162829552,
     "user": {
      "displayName": "Subhojit Deb",
      "userId": "14618455809485457693"
     },
     "user_tz": -330
    },
    "id": "wMy2UdUXVulx",
    "outputId": "3e8bda2c-eec5-4757-b9bd-08335d55e288"
   },
   "outputs": [],
   "source": [
    "from sklearn.datasets import fetch_california_housing\n",
    "import pandas as pd\n",
    "\n",
    "california_dataset = fetch_california_housing()\n",
    "\n",
    "df = pd.DataFrame(california_dataset.data, columns=california_dataset.feature_names)\n",
    "df['MEDV'] = california_dataset.target\n",
    "\n",
    "df.head(n=10)"
   ]
  },
  {
   "cell_type": "code",
   "execution_count": null,
   "metadata": {
    "executionInfo": {
     "elapsed": 425,
     "status": "ok",
     "timestamp": 1684162835114,
     "user": {
      "displayName": "Subhojit Deb",
      "userId": "14618455809485457693"
     },
     "user_tz": -330
    },
    "id": "qpQHUaMFV3PE"
   },
   "outputs": [],
   "source": [
    "from sklearn.model_selection import train_test_split\n",
    "\n",
    "X = df.loc[:, df.columns != 'MEDV']\n",
    "y = df.loc[:, df.columns == 'MEDV']\n",
    "X_train, X_test, y_train, y_test = train_test_split(X, y, test_size=0.3, random_state=123)"
   ]
  },
  {
   "cell_type": "code",
   "execution_count": null,
   "metadata": {
    "colab": {
     "base_uri": "https://localhost:8080/"
    },
    "executionInfo": {
     "elapsed": 458,
     "status": "ok",
     "timestamp": 1684162875510,
     "user": {
      "displayName": "Subhojit Deb",
      "userId": "14618455809485457693"
     },
     "user_tz": -330
    },
    "id": "NYeK9GPDWAiM",
    "outputId": "4af136e0-a081-41c9-87df-ed664185cce4"
   },
   "outputs": [],
   "source": [
    "from keras.models import Sequential\n",
    "from keras.layers import Dense\n",
    "\n",
    "model = Sequential()\n",
    "\n",
    "model.add(Dense(128, input_shape=(8, ), activation='relu', name='dense_1'))\n",
    "model.add(Dense(64, activation='relu', name='dense_2'))\n",
    "model.add(Dense(1, activation='linear', name='dense_output'))\n",
    "\n",
    "model.compile(optimizer='adam', loss='mse', metrics=['mae'])\n",
    "model.summary()"
   ]
  },
  {
   "cell_type": "code",
   "execution_count": null,
   "metadata": {
    "colab": {
     "base_uri": "https://localhost:8080/"
    },
    "executionInfo": {
     "elapsed": 204426,
     "status": "ok",
     "timestamp": 1684163082278,
     "user": {
      "displayName": "Subhojit Deb",
      "userId": "14618455809485457693"
     },
     "user_tz": -330
    },
    "id": "tS7FcIqyWIRL",
    "outputId": "6d0f51d1-e6ff-4f56-a44a-24ad0e8cfc50"
   },
   "outputs": [],
   "source": [
    "history = model.fit(X_train, y_train, epochs=200, validation_split=0.05, verbose = 1)"
   ]
  },
  {
   "cell_type": "code",
   "execution_count": null,
   "metadata": {
    "colab": {
     "base_uri": "https://localhost:8080/"
    },
    "executionInfo": {
     "elapsed": 1283,
     "status": "ok",
     "timestamp": 1684163102948,
     "user": {
      "displayName": "Subhojit Deb",
      "userId": "14618455809485457693"
     },
     "user_tz": -330
    },
    "id": "TKVTya2tWPt2",
    "outputId": "a07dc096-19c3-4bab-8fbe-832172d0db7d"
   },
   "outputs": [],
   "source": [
    "mse_nn, mae_nn = model.evaluate(X_test, y_test)\n",
    "\n",
    "print('Mean squared error on test data is: ', mse_nn)\n",
    "print('Mean absolute error on test data is: ', mae_nn)"
   ]
  }
 ],
 "metadata": {
  "colab": {
   "authorship_tag": "ABX9TyOaGNkp1BjHpN0+qU+9F3WB",
   "provenance": []
  },
  "kernelspec": {
   "display_name": "Python 3",
   "language": "python",
   "name": "python3"
  },
  "language_info": {
   "codemirror_mode": {
    "name": "ipython",
    "version": 3
   },
   "file_extension": ".py",
   "mimetype": "text/x-python",
   "name": "python",
   "nbconvert_exporter": "python",
   "pygments_lexer": "ipython3",
   "version": "3.9.2"
  }
 },
 "nbformat": 4,
 "nbformat_minor": 1
}
